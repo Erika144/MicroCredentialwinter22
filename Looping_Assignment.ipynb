{
  "nbformat": 4,
  "nbformat_minor": 0,
  "metadata": {
    "colab": {
      "name": "Looping Assignment.ipynb",
      "provenance": [],
      "authorship_tag": "ABX9TyMjAJVONyC4HhCFDZVOl5rj",
      "include_colab_link": true
    },
    "kernelspec": {
      "name": "python3",
      "display_name": "Python 3"
    },
    "language_info": {
      "name": "python"
    }
  },
  "cells": [
    {
      "cell_type": "markdown",
      "metadata": {
        "id": "view-in-github",
        "colab_type": "text"
      },
      "source": [
        "<a href=\"https://colab.research.google.com/github/Erika144/MicroCredentialwinter22/blob/main/Looping_Assignment.ipynb\" target=\"_parent\"><img src=\"https://colab.research.google.com/assets/colab-badge.svg\" alt=\"Open In Colab\"/></a>"
      ]
    },
    {
      "cell_type": "markdown",
      "source": [
        "#Looping Questions"
      ],
      "metadata": {
        "id": "00gXj3mfbZs4"
      }
    },
    {
      "cell_type": "code",
      "source": [
        "# Create a kist that holds five Data variables\n",
        "# Print out variables by using a loop\n",
        "# Modify your loop to add a message to your loop\n"
      ],
      "metadata": {
        "id": "bv6iyulOcc0C"
      },
      "execution_count": null,
      "outputs": []
    },
    {
      "cell_type": "code",
      "source": [
        "Art_supplies= ['brushes', 'paint','canvas','sketchpad','pencils']\n"
      ],
      "metadata": {
        "id": "sdl04YLobfQp"
      },
      "execution_count": null,
      "outputs": []
    },
    {
      "cell_type": "code",
      "source": [
        "for art in Art_supplies:\n",
        "  print (Art_supplies)"
      ],
      "metadata": {
        "colab": {
          "base_uri": "https://localhost:8080/"
        },
        "id": "yAJSgAzqbfAZ",
        "outputId": "c8dd65b7-0429-4e7a-8bd4-8b3439c58d6e"
      },
      "execution_count": null,
      "outputs": [
        {
          "output_type": "stream",
          "name": "stdout",
          "text": [
            "['brushes', 'paint', 'canvas', 'sketchpad', 'pencils']\n",
            "['brushes', 'paint', 'canvas', 'sketchpad', 'pencils']\n",
            "['brushes', 'paint', 'canvas', 'sketchpad', 'pencils']\n",
            "['brushes', 'paint', 'canvas', 'sketchpad', 'pencils']\n",
            "['brushes', 'paint', 'canvas', 'sketchpad', 'pencils']\n"
          ]
        }
      ]
    },
    {
      "cell_type": "code",
      "source": [
        "for art in Art_supplies:\n",
        "  print(art.upper() + ' are things I love to buy')  "
      ],
      "metadata": {
        "colab": {
          "base_uri": "https://localhost:8080/"
        },
        "id": "yAiz48sweBou",
        "outputId": "0d2ae8ad-ab2d-4394-c4d3-d1324d5f8c61"
      },
      "execution_count": null,
      "outputs": [
        {
          "output_type": "stream",
          "name": "stdout",
          "text": [
            "BRUSHES are things I love to buy\n",
            "PAINT are things I love to buy\n",
            "CANVAS are things I love to buy\n",
            "SKETCHPAD are things I love to buy\n",
            "PENCILS are things I love to buy\n"
          ]
        }
      ]
    },
    {
      "cell_type": "code",
      "source": [
        "# Use a loop to print numbers 1-20\n",
        "# Sort your list in alphabetical order\n",
        "# print out first 3 elements of your list\n",
        "#create a loop to print out the last two elements of your list"
      ],
      "metadata": {
        "id": "zOSMa_IneBVu"
      },
      "execution_count": null,
      "outputs": []
    },
    {
      "cell_type": "code",
      "source": [
        "for x in range(1,20):\n",
        "  print(x)\n"
      ],
      "metadata": {
        "colab": {
          "base_uri": "https://localhost:8080/"
        },
        "id": "qLsXjoHRi25I",
        "outputId": "9af204ff-0687-461c-dddd-345e8d5d4778"
      },
      "execution_count": null,
      "outputs": [
        {
          "output_type": "stream",
          "name": "stdout",
          "text": [
            "1\n",
            "2\n",
            "3\n",
            "4\n",
            "5\n",
            "6\n",
            "7\n",
            "8\n",
            "9\n",
            "10\n",
            "11\n",
            "12\n",
            "13\n",
            "14\n",
            "15\n",
            "16\n",
            "17\n",
            "18\n",
            "19\n"
          ]
        }
      ]
    },
    {
      "cell_type": "code",
      "source": [
        "Art_supplies.sort()\n",
        "    \n",
        "  "
      ],
      "metadata": {
        "id": "9ex6IMfpi2un"
      },
      "execution_count": null,
      "outputs": []
    },
    {
      "cell_type": "code",
      "source": [
        " print(Art_supplies)"
      ],
      "metadata": {
        "id": "iFNqvG3ri2hR",
        "colab": {
          "base_uri": "https://localhost:8080/"
        },
        "outputId": "e9fb80e5-6fd1-4669-a418-571d03e4cddb"
      },
      "execution_count": null,
      "outputs": [
        {
          "output_type": "stream",
          "name": "stdout",
          "text": [
            "['brushes', 'canvas', 'paint', 'pencils', 'sketchpad']\n"
          ]
        }
      ]
    },
    {
      "cell_type": "code",
      "source": [
        "print(Art_supplies[:3])"
      ],
      "metadata": {
        "colab": {
          "base_uri": "https://localhost:8080/"
        },
        "id": "GTSJe3eOv-QN",
        "outputId": "f59603f4-2401-44af-a209-7351bd7eb5f7"
      },
      "execution_count": null,
      "outputs": [
        {
          "output_type": "stream",
          "name": "stdout",
          "text": [
            "['brushes', 'canvas', 'paint']\n"
          ]
        }
      ]
    },
    {
      "cell_type": "code",
      "source": [
        "print(Art_supplies[:2])"
      ],
      "metadata": {
        "colab": {
          "base_uri": "https://localhost:8080/"
        },
        "id": "QBZUFaVMv-Dd",
        "outputId": "dc530b42-3532-49b1-e394-b76f843f14d6"
      },
      "execution_count": null,
      "outputs": [
        {
          "output_type": "stream",
          "name": "stdout",
          "text": [
            "['brushes', 'canvas']\n"
          ]
        }
      ]
    },
    {
      "cell_type": "code",
      "source": [
        ""
      ],
      "metadata": {
        "id": "PUcxWcycv9xG"
      },
      "execution_count": null,
      "outputs": []
    },
    {
      "cell_type": "code",
      "source": [
        ""
      ],
      "metadata": {
        "id": "YOTJEgzNv9h9"
      },
      "execution_count": null,
      "outputs": []
    }
  ]
}